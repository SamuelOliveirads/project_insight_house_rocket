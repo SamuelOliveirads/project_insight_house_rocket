{
 "cells": [
  {
   "cell_type": "markdown",
   "id": "56493ae9",
   "metadata": {},
   "source": [
    "# Projeto Insight - House Rocket"
   ]
  },
  {
   "cell_type": "markdown",
   "id": "725a99a5",
   "metadata": {},
   "source": [
    "## 1 Importando bibliotecas"
   ]
  },
  {
   "cell_type": "code",
   "execution_count": 1,
   "id": "17d3259a",
   "metadata": {
    "ExecuteTime": {
     "end_time": "2022-06-21T20:01:06.127333Z",
     "start_time": "2022-06-21T20:01:02.585402Z"
    }
   },
   "outputs": [],
   "source": [
    "import numpy as np\n",
    "import pandas as pd\n",
    "import matplotlib.pyplot as plt\n",
    "from matplotlib import gridspec\n",
    "import plotly.express as px\n",
    "\n",
    "pd.set_option('display.float_format', lambda x: '%.2f' % x)"
   ]
  },
  {
   "cell_type": "markdown",
   "id": "f6e02a90",
   "metadata": {},
   "source": [
    "## 2 Importando dataset"
   ]
  },
  {
   "cell_type": "code",
   "execution_count": 2,
   "id": "894f02e6",
   "metadata": {
    "ExecuteTime": {
     "end_time": "2022-06-21T20:01:06.234272Z",
     "start_time": "2022-06-21T20:01:06.130332Z"
    }
   },
   "outputs": [],
   "source": [
    "data = pd.read_csv('datasets\\kc_house_data.csv')"
   ]
  },
  {
   "cell_type": "markdown",
   "id": "0d64bf53",
   "metadata": {},
   "source": [
    "## 3 Limpeza dos dados"
   ]
  },
  {
   "cell_type": "markdown",
   "id": "1d8e10fd",
   "metadata": {},
   "source": [
    "### 3.1 Estrutura do dataset"
   ]
  },
  {
   "cell_type": "code",
   "execution_count": 3,
   "id": "d41c6052",
   "metadata": {
    "ExecuteTime": {
     "end_time": "2022-06-21T20:01:06.265254Z",
     "start_time": "2022-06-21T20:01:06.236271Z"
    }
   },
   "outputs": [
    {
     "name": "stdout",
     "output_type": "stream",
     "text": [
      "Numero de linhas: 21613\n",
      "Numero de colunas: 21\n"
     ]
    },
    {
     "data": {
      "text/html": [
       "<div>\n",
       "<style scoped>\n",
       "    .dataframe tbody tr th:only-of-type {\n",
       "        vertical-align: middle;\n",
       "    }\n",
       "\n",
       "    .dataframe tbody tr th {\n",
       "        vertical-align: top;\n",
       "    }\n",
       "\n",
       "    .dataframe thead th {\n",
       "        text-align: right;\n",
       "    }\n",
       "</style>\n",
       "<table border=\"1\" class=\"dataframe\">\n",
       "  <thead>\n",
       "    <tr style=\"text-align: right;\">\n",
       "      <th></th>\n",
       "      <th>id</th>\n",
       "      <th>date</th>\n",
       "      <th>price</th>\n",
       "      <th>bedrooms</th>\n",
       "      <th>bathrooms</th>\n",
       "      <th>sqft_living</th>\n",
       "      <th>sqft_lot</th>\n",
       "      <th>floors</th>\n",
       "      <th>waterfront</th>\n",
       "      <th>view</th>\n",
       "      <th>...</th>\n",
       "      <th>grade</th>\n",
       "      <th>sqft_above</th>\n",
       "      <th>sqft_basement</th>\n",
       "      <th>yr_built</th>\n",
       "      <th>yr_renovated</th>\n",
       "      <th>zipcode</th>\n",
       "      <th>lat</th>\n",
       "      <th>long</th>\n",
       "      <th>sqft_living15</th>\n",
       "      <th>sqft_lot15</th>\n",
       "    </tr>\n",
       "  </thead>\n",
       "  <tbody>\n",
       "    <tr>\n",
       "      <th>0</th>\n",
       "      <td>7129300520</td>\n",
       "      <td>20141013T000000</td>\n",
       "      <td>221900.00</td>\n",
       "      <td>3</td>\n",
       "      <td>1.00</td>\n",
       "      <td>1180</td>\n",
       "      <td>5650</td>\n",
       "      <td>1.00</td>\n",
       "      <td>0</td>\n",
       "      <td>0</td>\n",
       "      <td>...</td>\n",
       "      <td>7</td>\n",
       "      <td>1180</td>\n",
       "      <td>0</td>\n",
       "      <td>1955</td>\n",
       "      <td>0</td>\n",
       "      <td>98178</td>\n",
       "      <td>47.51</td>\n",
       "      <td>-122.26</td>\n",
       "      <td>1340</td>\n",
       "      <td>5650</td>\n",
       "    </tr>\n",
       "    <tr>\n",
       "      <th>1</th>\n",
       "      <td>6414100192</td>\n",
       "      <td>20141209T000000</td>\n",
       "      <td>538000.00</td>\n",
       "      <td>3</td>\n",
       "      <td>2.25</td>\n",
       "      <td>2570</td>\n",
       "      <td>7242</td>\n",
       "      <td>2.00</td>\n",
       "      <td>0</td>\n",
       "      <td>0</td>\n",
       "      <td>...</td>\n",
       "      <td>7</td>\n",
       "      <td>2170</td>\n",
       "      <td>400</td>\n",
       "      <td>1951</td>\n",
       "      <td>1991</td>\n",
       "      <td>98125</td>\n",
       "      <td>47.72</td>\n",
       "      <td>-122.32</td>\n",
       "      <td>1690</td>\n",
       "      <td>7639</td>\n",
       "    </tr>\n",
       "    <tr>\n",
       "      <th>2</th>\n",
       "      <td>5631500400</td>\n",
       "      <td>20150225T000000</td>\n",
       "      <td>180000.00</td>\n",
       "      <td>2</td>\n",
       "      <td>1.00</td>\n",
       "      <td>770</td>\n",
       "      <td>10000</td>\n",
       "      <td>1.00</td>\n",
       "      <td>0</td>\n",
       "      <td>0</td>\n",
       "      <td>...</td>\n",
       "      <td>6</td>\n",
       "      <td>770</td>\n",
       "      <td>0</td>\n",
       "      <td>1933</td>\n",
       "      <td>0</td>\n",
       "      <td>98028</td>\n",
       "      <td>47.74</td>\n",
       "      <td>-122.23</td>\n",
       "      <td>2720</td>\n",
       "      <td>8062</td>\n",
       "    </tr>\n",
       "    <tr>\n",
       "      <th>3</th>\n",
       "      <td>2487200875</td>\n",
       "      <td>20141209T000000</td>\n",
       "      <td>604000.00</td>\n",
       "      <td>4</td>\n",
       "      <td>3.00</td>\n",
       "      <td>1960</td>\n",
       "      <td>5000</td>\n",
       "      <td>1.00</td>\n",
       "      <td>0</td>\n",
       "      <td>0</td>\n",
       "      <td>...</td>\n",
       "      <td>7</td>\n",
       "      <td>1050</td>\n",
       "      <td>910</td>\n",
       "      <td>1965</td>\n",
       "      <td>0</td>\n",
       "      <td>98136</td>\n",
       "      <td>47.52</td>\n",
       "      <td>-122.39</td>\n",
       "      <td>1360</td>\n",
       "      <td>5000</td>\n",
       "    </tr>\n",
       "    <tr>\n",
       "      <th>4</th>\n",
       "      <td>1954400510</td>\n",
       "      <td>20150218T000000</td>\n",
       "      <td>510000.00</td>\n",
       "      <td>3</td>\n",
       "      <td>2.00</td>\n",
       "      <td>1680</td>\n",
       "      <td>8080</td>\n",
       "      <td>1.00</td>\n",
       "      <td>0</td>\n",
       "      <td>0</td>\n",
       "      <td>...</td>\n",
       "      <td>8</td>\n",
       "      <td>1680</td>\n",
       "      <td>0</td>\n",
       "      <td>1987</td>\n",
       "      <td>0</td>\n",
       "      <td>98074</td>\n",
       "      <td>47.62</td>\n",
       "      <td>-122.05</td>\n",
       "      <td>1800</td>\n",
       "      <td>7503</td>\n",
       "    </tr>\n",
       "  </tbody>\n",
       "</table>\n",
       "<p>5 rows × 21 columns</p>\n",
       "</div>"
      ],
      "text/plain": [
       "           id             date     price  bedrooms  bathrooms  sqft_living  \\\n",
       "0  7129300520  20141013T000000 221900.00         3       1.00         1180   \n",
       "1  6414100192  20141209T000000 538000.00         3       2.25         2570   \n",
       "2  5631500400  20150225T000000 180000.00         2       1.00          770   \n",
       "3  2487200875  20141209T000000 604000.00         4       3.00         1960   \n",
       "4  1954400510  20150218T000000 510000.00         3       2.00         1680   \n",
       "\n",
       "   sqft_lot  floors  waterfront  view  ...  grade  sqft_above  sqft_basement  \\\n",
       "0      5650    1.00           0     0  ...      7        1180              0   \n",
       "1      7242    2.00           0     0  ...      7        2170            400   \n",
       "2     10000    1.00           0     0  ...      6         770              0   \n",
       "3      5000    1.00           0     0  ...      7        1050            910   \n",
       "4      8080    1.00           0     0  ...      8        1680              0   \n",
       "\n",
       "   yr_built  yr_renovated  zipcode   lat    long  sqft_living15  sqft_lot15  \n",
       "0      1955             0    98178 47.51 -122.26           1340        5650  \n",
       "1      1951          1991    98125 47.72 -122.32           1690        7639  \n",
       "2      1933             0    98028 47.74 -122.23           2720        8062  \n",
       "3      1965             0    98136 47.52 -122.39           1360        5000  \n",
       "4      1987             0    98074 47.62 -122.05           1800        7503  \n",
       "\n",
       "[5 rows x 21 columns]"
      ]
     },
     "execution_count": 3,
     "metadata": {},
     "output_type": "execute_result"
    }
   ],
   "source": [
    "print(f'Numero de linhas: {data.shape[0]}')\n",
    "print(f'Numero de colunas: {data.shape[1]}')\n",
    "data.head()"
   ]
  },
  {
   "cell_type": "markdown",
   "id": "0997e536",
   "metadata": {},
   "source": [
    "### 3.2 Transformação e visualização dos tipos"
   ]
  },
  {
   "cell_type": "code",
   "execution_count": 4,
   "id": "8eba71e8",
   "metadata": {
    "ExecuteTime": {
     "end_time": "2022-06-21T20:01:06.296238Z",
     "start_time": "2022-06-21T20:01:06.269253Z"
    }
   },
   "outputs": [
    {
     "data": {
      "text/plain": [
       "id                        int64\n",
       "date             datetime64[ns]\n",
       "price                   float64\n",
       "bedrooms                  int64\n",
       "bathrooms               float64\n",
       "sqft_living               int64\n",
       "sqft_lot                  int64\n",
       "floors                  float64\n",
       "waterfront                int64\n",
       "view                      int64\n",
       "condition                 int64\n",
       "grade                     int64\n",
       "sqft_above                int64\n",
       "sqft_basement             int64\n",
       "yr_built                  int64\n",
       "yr_renovated              int64\n",
       "zipcode                   int64\n",
       "lat                     float64\n",
       "long                    float64\n",
       "sqft_living15             int64\n",
       "sqft_lot15                int64\n",
       "dtype: object"
      ]
     },
     "execution_count": 4,
     "metadata": {},
     "output_type": "execute_result"
    }
   ],
   "source": [
    "# Convertendo date de string para datetime\n",
    "data['date'] = pd.to_datetime(data['date'])\n",
    "data.dtypes"
   ]
  },
  {
   "cell_type": "markdown",
   "id": "d348dd1c",
   "metadata": {},
   "source": [
    "#### Convertendo valores da coluna \"floors\""
   ]
  },
  {
   "cell_type": "code",
   "execution_count": 5,
   "id": "3f26a097",
   "metadata": {
    "ExecuteTime": {
     "end_time": "2022-06-21T20:02:01.838848Z",
     "start_time": "2022-06-21T20:01:06.299235Z"
    }
   },
   "outputs": [
    {
     "data": {
      "image/png": "[encoded data removed]",
      "text/plain": [
       "<Figure size 1440x864 with 2 Axes>"
      ]
     },
     "metadata": {
      "needs_background": "light"
     },
     "output_type": "display_data"
    }
   ],
   "source": [
    "# Analizando distribuição de dados do \"Floor\" antes e depois da conversão\n",
    "fig = plt.figure(figsize=(20,12))\n",
    "\n",
    "specs = gridspec.GridSpec(nrows=1, ncols=2, figure=fig)\n",
    "\n",
    "ax1 = fig.add_subplot(specs[0, 0])\n",
    "ax2 = fig.add_subplot(specs[0, 1])\n",
    "\n",
    "ax1.bar(x=data['floors'], height=data['price'])\n",
    "ax1.set_title('Distribuição de andares original', fontsize=20)\n",
    "ax1.set_xlabel('Numero de andares', fontsize=15)\n",
    "ax1.set_ylabel('Soma dos precos', fontsize=15)\n",
    "\n",
    "ax2.bar(x=data['floors'].astype(int), height=data['price'])\n",
    "ax2.set_title('Distribuição de andares com conversão a inteiro', fontsize=19)\n",
    "ax2.set_xlabel('Numero de andares', fontsize=15)\n",
    "ax2.set_ylabel('Soma dos precos', fontsize=15)\n",
    "\n",
    "# Convertendo andares para tipo int\n",
    "data['floors'] = data['floors'].astype(int)"
   ]
  },
  {
   "cell_type": "markdown",
   "id": "82f6744d",
   "metadata": {},
   "source": [
    "Observação: a função de conversão utilizada permite aos valores flutuantes se aproximarem dos valores inteiros diretamente anterior aos mesmos."
   ]
  },
  {
   "cell_type": "markdown",
   "id": "137b699f",
   "metadata": {},
   "source": [
    "### 3.3 Verificação de variáveis faltantes"
   ]
  },
  {
   "cell_type": "code",
   "execution_count": 6,
   "id": "c7a07a98",
   "metadata": {
    "ExecuteTime": {
     "end_time": "2022-06-21T20:02:01.854831Z",
     "start_time": "2022-06-21T20:02:01.840837Z"
    }
   },
   "outputs": [
    {
     "data": {
      "text/plain": [
       "id               0\n",
       "date             0\n",
       "price            0\n",
       "bedrooms         0\n",
       "bathrooms        0\n",
       "sqft_living      0\n",
       "sqft_lot         0\n",
       "floors           0\n",
       "waterfront       0\n",
       "view             0\n",
       "condition        0\n",
       "grade            0\n",
       "sqft_above       0\n",
       "sqft_basement    0\n",
       "yr_built         0\n",
       "yr_renovated     0\n",
       "zipcode          0\n",
       "lat              0\n",
       "long             0\n",
       "sqft_living15    0\n",
       "sqft_lot15       0\n",
       "dtype: int64"
      ]
     },
     "execution_count": 6,
     "metadata": {},
     "output_type": "execute_result"
    }
   ],
   "source": [
    "data.isna().sum()"
   ]
  },
  {
   "cell_type": "markdown",
   "id": "bb54b1da",
   "metadata": {},
   "source": [
    "### 3.4 Verificação de outliers"
   ]
  },
  {
   "cell_type": "code",
   "execution_count": 7,
   "id": "b9e4ae95",
   "metadata": {
    "ExecuteTime": {
     "end_time": "2022-06-21T20:02:02.074704Z",
     "start_time": "2022-06-21T20:02:01.860826Z"
    }
   },
   "outputs": [
    {
     "data": {
      "image/png": "[encoded data removed]",
      "text/plain": [
       "<Figure size 432x288 with 1 Axes>"
      ]
     },
     "metadata": {
      "needs_background": "light"
     },
     "output_type": "display_data"
    }
   ],
   "source": [
    "columns = ['bedrooms', 'bathrooms', 'floors', 'view', 'condition', 'grade']\n",
    "data.boxplot(column=columns);"
   ]
  },
  {
   "cell_type": "code",
   "execution_count": 8,
   "id": "aaf45be4",
   "metadata": {
    "ExecuteTime": {
     "end_time": "2022-06-21T20:02:02.090694Z",
     "start_time": "2022-06-21T20:02:02.077702Z"
    }
   },
   "outputs": [],
   "source": [
    "# Análise e remoção do Outlier em bedrooms\n",
    "data[data['bedrooms'] == 33]\n",
    "data.drop(data[data['bedrooms'] == 33].index, inplace=True)"
   ]
  },
  {
   "cell_type": "markdown",
   "id": "3514cab1",
   "metadata": {},
   "source": [
    "## 4 Exploração de dados"
   ]
  },
  {
   "cell_type": "markdown",
   "id": "b31f86c1",
   "metadata": {},
   "source": [
    "### 4.1 Estatística Descritiva"
   ]
  },
  {
   "cell_type": "code",
   "execution_count": 9,
   "id": "1f46ffa3",
   "metadata": {
    "ExecuteTime": {
     "end_time": "2022-06-21T20:02:02.151778Z",
     "start_time": "2022-06-21T20:02:02.094692Z"
    },
    "scrolled": true
   },
   "outputs": [
    {
     "data": {
      "text/html": [
       "<div>\n",
       "<style scoped>\n",
       "    .dataframe tbody tr th:only-of-type {\n",
       "        vertical-align: middle;\n",
       "    }\n",
       "\n",
       "    .dataframe tbody tr th {\n",
       "        vertical-align: top;\n",
       "    }\n",
       "\n",
       "    .dataframe thead th {\n",
       "        text-align: right;\n",
       "    }\n",
       "</style>\n",
       "<table border=\"1\" class=\"dataframe\">\n",
       "  <thead>\n",
       "    <tr style=\"text-align: right;\">\n",
       "      <th></th>\n",
       "      <th>price</th>\n",
       "      <th>bedrooms</th>\n",
       "      <th>bathrooms</th>\n",
       "      <th>sqft_living</th>\n",
       "      <th>sqft_lot</th>\n",
       "      <th>floors</th>\n",
       "      <th>view</th>\n",
       "      <th>condition</th>\n",
       "      <th>grade</th>\n",
       "      <th>sqft_above</th>\n",
       "      <th>sqft_basement</th>\n",
       "      <th>yr_built</th>\n",
       "      <th>yr_renovated</th>\n",
       "      <th>sqft_living15</th>\n",
       "      <th>sqft_lot15</th>\n",
       "    </tr>\n",
       "  </thead>\n",
       "  <tbody>\n",
       "    <tr>\n",
       "      <th>count</th>\n",
       "      <td>21612.00</td>\n",
       "      <td>21612.00</td>\n",
       "      <td>21612.00</td>\n",
       "      <td>21612.00</td>\n",
       "      <td>21612.00</td>\n",
       "      <td>21612.00</td>\n",
       "      <td>21612.00</td>\n",
       "      <td>21612.00</td>\n",
       "      <td>21612.00</td>\n",
       "      <td>21612.00</td>\n",
       "      <td>21612.00</td>\n",
       "      <td>21612.00</td>\n",
       "      <td>21612.00</td>\n",
       "      <td>21612.00</td>\n",
       "      <td>21612.00</td>\n",
       "    </tr>\n",
       "    <tr>\n",
       "      <th>mean</th>\n",
       "      <td>540083.52</td>\n",
       "      <td>3.37</td>\n",
       "      <td>2.11</td>\n",
       "      <td>2079.92</td>\n",
       "      <td>15107.39</td>\n",
       "      <td>1.45</td>\n",
       "      <td>0.23</td>\n",
       "      <td>3.41</td>\n",
       "      <td>7.66</td>\n",
       "      <td>1788.43</td>\n",
       "      <td>291.50</td>\n",
       "      <td>1971.01</td>\n",
       "      <td>84.41</td>\n",
       "      <td>1986.58</td>\n",
       "      <td>12768.83</td>\n",
       "    </tr>\n",
       "    <tr>\n",
       "      <th>std</th>\n",
       "      <td>367135.06</td>\n",
       "      <td>0.91</td>\n",
       "      <td>0.77</td>\n",
       "      <td>918.46</td>\n",
       "      <td>41421.42</td>\n",
       "      <td>0.55</td>\n",
       "      <td>0.77</td>\n",
       "      <td>0.65</td>\n",
       "      <td>1.18</td>\n",
       "      <td>828.09</td>\n",
       "      <td>442.58</td>\n",
       "      <td>29.37</td>\n",
       "      <td>401.69</td>\n",
       "      <td>685.39</td>\n",
       "      <td>27304.76</td>\n",
       "    </tr>\n",
       "    <tr>\n",
       "      <th>min</th>\n",
       "      <td>75000.00</td>\n",
       "      <td>0.00</td>\n",
       "      <td>0.00</td>\n",
       "      <td>290.00</td>\n",
       "      <td>520.00</td>\n",
       "      <td>1.00</td>\n",
       "      <td>0.00</td>\n",
       "      <td>1.00</td>\n",
       "      <td>1.00</td>\n",
       "      <td>290.00</td>\n",
       "      <td>0.00</td>\n",
       "      <td>1900.00</td>\n",
       "      <td>0.00</td>\n",
       "      <td>399.00</td>\n",
       "      <td>651.00</td>\n",
       "    </tr>\n",
       "    <tr>\n",
       "      <th>25%</th>\n",
       "      <td>321837.50</td>\n",
       "      <td>3.00</td>\n",
       "      <td>1.75</td>\n",
       "      <td>1426.50</td>\n",
       "      <td>5040.00</td>\n",
       "      <td>1.00</td>\n",
       "      <td>0.00</td>\n",
       "      <td>3.00</td>\n",
       "      <td>7.00</td>\n",
       "      <td>1190.00</td>\n",
       "      <td>0.00</td>\n",
       "      <td>1951.00</td>\n",
       "      <td>0.00</td>\n",
       "      <td>1490.00</td>\n",
       "      <td>5100.00</td>\n",
       "    </tr>\n",
       "    <tr>\n",
       "      <th>50%</th>\n",
       "      <td>450000.00</td>\n",
       "      <td>3.00</td>\n",
       "      <td>2.25</td>\n",
       "      <td>1910.00</td>\n",
       "      <td>7619.00</td>\n",
       "      <td>1.00</td>\n",
       "      <td>0.00</td>\n",
       "      <td>3.00</td>\n",
       "      <td>7.00</td>\n",
       "      <td>1560.00</td>\n",
       "      <td>0.00</td>\n",
       "      <td>1975.00</td>\n",
       "      <td>0.00</td>\n",
       "      <td>1840.00</td>\n",
       "      <td>7620.00</td>\n",
       "    </tr>\n",
       "    <tr>\n",
       "      <th>75%</th>\n",
       "      <td>645000.00</td>\n",
       "      <td>4.00</td>\n",
       "      <td>2.50</td>\n",
       "      <td>2550.00</td>\n",
       "      <td>10688.25</td>\n",
       "      <td>2.00</td>\n",
       "      <td>0.00</td>\n",
       "      <td>4.00</td>\n",
       "      <td>8.00</td>\n",
       "      <td>2210.00</td>\n",
       "      <td>560.00</td>\n",
       "      <td>1997.00</td>\n",
       "      <td>0.00</td>\n",
       "      <td>2360.00</td>\n",
       "      <td>10083.25</td>\n",
       "    </tr>\n",
       "    <tr>\n",
       "      <th>max</th>\n",
       "      <td>7700000.00</td>\n",
       "      <td>11.00</td>\n",
       "      <td>8.00</td>\n",
       "      <td>13540.00</td>\n",
       "      <td>1651359.00</td>\n",
       "      <td>3.00</td>\n",
       "      <td>4.00</td>\n",
       "      <td>5.00</td>\n",
       "      <td>13.00</td>\n",
       "      <td>9410.00</td>\n",
       "      <td>4820.00</td>\n",
       "      <td>2015.00</td>\n",
       "      <td>2015.00</td>\n",
       "      <td>6210.00</td>\n",
       "      <td>871200.00</td>\n",
       "    </tr>\n",
       "  </tbody>\n",
       "</table>\n",
       "</div>"
      ],
      "text/plain": [
       "           price  bedrooms  bathrooms  sqft_living   sqft_lot   floors  \\\n",
       "count   21612.00  21612.00   21612.00     21612.00   21612.00 21612.00   \n",
       "mean   540083.52      3.37       2.11      2079.92   15107.39     1.45   \n",
       "std    367135.06      0.91       0.77       918.46   41421.42     0.55   \n",
       "min     75000.00      0.00       0.00       290.00     520.00     1.00   \n",
       "25%    321837.50      3.00       1.75      1426.50    5040.00     1.00   \n",
       "50%    450000.00      3.00       2.25      1910.00    7619.00     1.00   \n",
       "75%    645000.00      4.00       2.50      2550.00   10688.25     2.00   \n",
       "max   7700000.00     11.00       8.00     13540.00 1651359.00     3.00   \n",
       "\n",
       "          view  condition    grade  sqft_above  sqft_basement  yr_built  \\\n",
       "count 21612.00   21612.00 21612.00    21612.00       21612.00  21612.00   \n",
       "mean      0.23       3.41     7.66     1788.43         291.50   1971.01   \n",
       "std       0.77       0.65     1.18      828.09         442.58     29.37   \n",
       "min       0.00       1.00     1.00      290.00           0.00   1900.00   \n",
       "25%       0.00       3.00     7.00     1190.00           0.00   1951.00   \n",
       "50%       0.00       3.00     7.00     1560.00           0.00   1975.00   \n",
       "75%       0.00       4.00     8.00     2210.00         560.00   1997.00   \n",
       "max       4.00       5.00    13.00     9410.00        4820.00   2015.00   \n",
       "\n",
       "       yr_renovated  sqft_living15  sqft_lot15  \n",
       "count      21612.00       21612.00    21612.00  \n",
       "mean          84.41        1986.58    12768.83  \n",
       "std          401.69         685.39    27304.76  \n",
       "min            0.00         399.00      651.00  \n",
       "25%            0.00        1490.00     5100.00  \n",
       "50%            0.00        1840.00     7620.00  \n",
       "75%            0.00        2360.00    10083.25  \n",
       "max         2015.00        6210.00   871200.00  "
      ]
     },
     "execution_count": 9,
     "metadata": {},
     "output_type": "execute_result"
    }
   ],
   "source": [
    "# Removendo colunas não relevantes\n",
    "columns=['date', 'price', 'bedrooms', 'bathrooms', 'sqft_living','sqft_lot', 'floors', 'view', 'condition', \n",
    "         'grade', 'sqft_above', 'sqft_basement', 'yr_built', 'yr_renovated', 'sqft_living15', 'sqft_lot15']\n",
    "data[columns].describe()"
   ]
  },
  {
   "cell_type": "markdown",
   "id": "6b8c3f33",
   "metadata": {},
   "source": [
    "### 4.2 Feature Creation"
   ]
  },
  {
   "cell_type": "code",
   "execution_count": 10,
   "id": "686b9f13",
   "metadata": {
    "ExecuteTime": {
     "end_time": "2022-06-21T20:02:02.228767Z",
     "start_time": "2022-06-21T20:02:02.154777Z"
    }
   },
   "outputs": [],
   "source": [
    "df = data.copy()\n",
    "\n",
    "# Delimitador entre imoveis antigas e novas (anteriores a 1955 serão consideradas antigas)\n",
    "df.loc[df['yr_built'] < 1955, 'age_house'] = 'old'\n",
    "df.loc[df['yr_built'] >= 1955, 'age_house'] = 'new'\n",
    "\n",
    "\n",
    "# Imoveis com e sem porao\n",
    "df.loc[df['sqft_basement'] == 0, 'basement'] = 'no'\n",
    "df.loc[df['sqft_basement'] > 0, 'basement'] = 'yes'\n",
    "\n",
    "\n",
    "# Coluna contendo apenas o ano da publicacao do imovel para a venda\n",
    "df['year'] = pd.to_datetime(df['date']).dt.year\n",
    "\n",
    "\n",
    "# Coluna contendo apenas o mês da publicacao do imovel para a venda\n",
    "df['month'] = pd.to_datetime(df['date']).dt.month\n",
    "\n",
    "\n",
    "# Coluna discriminando se o imovel foi ou nao renovado\n",
    "df.loc[df['yr_renovated']== 0, 'is_renovated'] = 'no'\n",
    "df.loc[df['yr_renovated'] > 0, 'is_renovated'] = 'yes'\n",
    "\n",
    "\n",
    "# Coluna discriminando as estacoes do ano em que o imovel foi publicado a venda\n",
    "bins = [0, 2, 5, 8, 11, 12]\n",
    "df['season'] = pd.cut(df['month'], bins, labels=['winter', 'spring', 'summer', 'fall', 'winter'], ordered=False)\n",
    "\n",
    "\n",
    "# Coluna para discriminar banheiros completos (chuveiro, pia, vaso) dos banheiros sem chuveiro\n",
    "bathint = [0, 1, 2, 3,4 ,5, 6, 8]  # Banheiro com chuveiro\n",
    "bathfloat = [0.5, 0.75, 1.25, 1.5, 1.75, 2.25, 2.5, 2.75, 3.25, 3.5, 3.75,\n",
    "             4.25, 4.5, 4.75, 5.25, 5.5, 5.75, 6.25, 6.5, 6.75, 7.5 , 7.75] # Banheiro sem chuveiro\n",
    "\n",
    "df.loc[df['bathrooms'].isin(bathint), 'complete_bathroom'] = 'yes'\n",
    "df.loc[df['bathrooms'].isin(bathfloat), 'complete_bathroom'] = 'no'"
   ]
  },
  {
   "cell_type": "markdown",
   "id": "8c26cd4e",
   "metadata": {},
   "source": [
    "### 4.3 Insights\n",
    "\n",
    "##### Hipoteses:\n",
    "H1: Imóveis que possuem vista para água, são 30% mais caros, na média.\n",
    "\n",
    "H2: Imóveis com data de construção menor que 1955, são 50% mais baratos, na média.\n",
    "\n",
    "H3: Imóveis sem porão (sqft_basement), são 40% maiores do que com porão em media.\n",
    "\n",
    "H4: O crescimento do preço dos imóveis YoY (Year over Year) é de 10%\n",
    "\n",
    "H5: Imóveis com 3 banheiros tem um crescimento MoM (Month over Month) de 15% em média\n",
    "\n",
    "H6: Imóveis com reforma são 30% mais caros na média.\n",
    "\n",
    "H7: Imóveis vendem 30% mais no verão na média\n",
    "\n",
    "H8: Imóveis são 20% mais caros no verão na média.\n",
    "\n",
    "H9: Imóveis com banheiros completos são 10% mais caros na média.\n",
    "\n",
    "H10: Para cada andar do imóvel, o preço médio é 20% maior."
   ]
  },
  {
   "cell_type": "code",
   "execution_count": 11,
   "id": "544dadb9",
   "metadata": {
    "ExecuteTime": {
     "end_time": "2022-06-21T20:02:02.353425Z",
     "start_time": "2022-06-21T20:02:02.229768Z"
    }
   },
   "outputs": [
    {
     "name": "stdout",
     "output_type": "stream",
     "text": [
      "A hipótese 1 é verdadeira, pois imóveis com vista a água são 212.64% mais caros\n"
     ]
    },
    {
     "data": {
      "image/png": "[encoded data removed]",
      "text/plain": [
       "<Figure size 504x720 with 1 Axes>"
      ]
     },
     "metadata": {
      "needs_background": "light"
     },
     "output_type": "display_data"
    }
   ],
   "source": [
    "# H1: Imóveis que possuem vista para água, são 30% mais caros, na média.\n",
    "h1 = df[['waterfront', 'price']].groupby('waterfront').mean().reset_index()\n",
    "\n",
    "# Plot\n",
    "fig = plt.figure(figsize=(7,10))\n",
    "plt.bar(x=h1['waterfront'], height=h1['price'])\n",
    "\n",
    "# Calculo de percentual e conclusão\n",
    "h1_perc = (h1.loc[1,'price'] / h1.loc[0,'price'] - 1) * 100\n",
    "print(f'A hipótese 1 é verdadeira, pois imóveis com vista a água são {h1_perc:.2f}% mais caros')"
   ]
  },
  {
   "cell_type": "code",
   "execution_count": 12,
   "id": "80ca9265",
   "metadata": {
    "ExecuteTime": {
     "end_time": "2022-06-21T20:02:02.445888Z",
     "start_time": "2022-06-21T20:02:02.355424Z"
    }
   },
   "outputs": [
    {
     "name": "stdout",
     "output_type": "stream",
     "text": [
      "A hipótese 2 é falsa, pois imóveis com data de construção menor que 1955 são 0.79% mais barato\n"
     ]
    },
    {
     "data": {
      "image/png": "[encoded data removed]",
      "text/plain": [
       "<Figure size 504x720 with 1 Axes>"
      ]
     },
     "metadata": {
      "needs_background": "light"
     },
     "output_type": "display_data"
    }
   ],
   "source": [
    "# H2: Imóveis com data de construção menor que 1955, são 50% mais baratos, na média.\n",
    "h2 = df[['age_house','price']].groupby('age_house').mean().reset_index()\n",
    "\n",
    "# Plot\n",
    "fig = plt.figure(figsize=(7,10))\n",
    "plt.bar(x=h2['age_house'], height=h2['price'])\n",
    "\n",
    "# Calculo de percentual e conclusão\n",
    "h2_perc = (h2.loc[0,'price'] / h2.loc[1,'price']-1)*100\n",
    "print(f'A hipótese 2 é falsa, pois imóveis com data de construção menor que 1955 são {h2_perc:.2f}% mais barato')"
   ]
  },
  {
   "cell_type": "code",
   "execution_count": 13,
   "id": "9fd3cf3b",
   "metadata": {
    "ExecuteTime": {
     "end_time": "2022-06-21T20:02:02.539712Z",
     "start_time": "2022-06-21T20:02:02.447879Z"
    }
   },
   "outputs": [
    {
     "name": "stdout",
     "output_type": "stream",
     "text": [
      "A hipótese 3 é falsa, pois imóveis sem porão são 22.56% maiores\n"
     ]
    },
    {
     "data": {
      "image/png": "[encoded data removed]",
      "text/plain": [
       "<Figure size 504x720 with 1 Axes>"
      ]
     },
     "metadata": {
      "needs_background": "light"
     },
     "output_type": "display_data"
    }
   ],
   "source": [
    "# H3: Imóveis sem porão (sqft_basement), são 40% maiores do que com porão em media.\n",
    "h3 = df[['basement', 'sqft_lot']].groupby('basement').mean().reset_index()\n",
    "\n",
    "# Plot\n",
    "fig = plt.figure(figsize=(7,10))\n",
    "plt.bar(x=h3['basement'], height=h3['sqft_lot'])\n",
    "\n",
    "# Calculo de percentual e conclusão\n",
    "h3_perc = (h3.loc[0,'sqft_lot'] / h3.loc[1,'sqft_lot']-1)*100\n",
    "print(f'A hipótese 3 é falsa, pois imóveis sem porão são {h3_perc:.2f}% maiores')"
   ]
  },
  {
   "cell_type": "code",
   "execution_count": 14,
   "id": "569feba1",
   "metadata": {
    "ExecuteTime": {
     "end_time": "2022-06-21T20:02:02.649667Z",
     "start_time": "2022-06-21T20:02:02.542711Z"
    }
   },
   "outputs": [
    {
     "name": "stdout",
     "output_type": "stream",
     "text": [
      "A hipótese 4 é falsa, pois o crescimento ano a ano dos preços é 0.05% em média.\n"
     ]
    },
    {
     "data": {
      "image/png": "[encoded data removed]",
      "text/plain": [
       "<Figure size 504x720 with 1 Axes>"
      ]
     },
     "metadata": {
      "needs_background": "light"
     },
     "output_type": "display_data"
    }
   ],
   "source": [
    "# H4: O crescimento do preço dos imóveis YoY (Year over Year) é de 10%\n",
    "h4 = df[['year','price']].groupby('year').mean().reset_index()\n",
    "\n",
    "# plot\n",
    "fig = plt.figure(figsize=(7,10))\n",
    "plt.bar(x=h4['year'], height=h4['price'])\n",
    "\n",
    "# Calculo de percentual e conclusão\n",
    "h4_perc = (h4.loc[1,'year'] / h4.loc[0,'year']-1)*100\n",
    "print(f'A hipótese 4 é falsa, pois o crescimento ano a ano dos preços é {h4_perc:.2f}% em média.')"
   ]
  },
  {
   "cell_type": "code",
   "execution_count": 15,
   "id": "69eae311",
   "metadata": {
    "ExecuteTime": {
     "end_time": "2022-06-21T20:02:02.789640Z",
     "start_time": "2022-06-21T20:02:02.651649Z"
    }
   },
   "outputs": [
    {
     "name": "stdout",
     "output_type": "stream",
     "text": [
      "A hipótese 5 é falsa, pois o crescimento mês a mês dos preços é de 0.99% em média.\n"
     ]
    },
    {
     "data": {
      "image/png": "[encoded data removed]",
      "text/plain": [
       "<Figure size 504x720 with 1 Axes>"
      ]
     },
     "metadata": {
      "needs_background": "light"
     },
     "output_type": "display_data"
    }
   ],
   "source": [
    "# H5: Imóveis com 3 banheiros tem um crescimento MoM (Month over Month) de 15% em média\n",
    "h5 = df.copy()\n",
    "\n",
    "h5 = h5[h5['bathrooms'] ==3]  # Filtragem para imoveis com 3 banheiros\n",
    "h5 = h5[['bathrooms', 'month', 'price']].groupby('month').mean().reset_index()\n",
    "h5.drop(columns='bathrooms', inplace=True)\n",
    "\n",
    "# Plot\n",
    "fig = plt.figure(figsize=(7,10))\n",
    "plt.bar(x=h5['month'], height=h5['price'])\n",
    "\n",
    "# Calculo de variacao percentual mes a mes\n",
    "h5_perc = 0\n",
    "for i in range(0, 11):\n",
    "    var = (h5.iloc[i+1, 1] / h5.iloc[i, 1] *100) - 100\n",
    "    h5_perc = h5_perc + var\n",
    "h5_perc = h5_perc/11   \n",
    "\n",
    "# Conclusao\n",
    "print(f'A hipótese 5 é falsa, pois o crescimento mês a mês dos preços é de {h5_perc:.2f}% em média.')"
   ]
  },
  {
   "cell_type": "code",
   "execution_count": 16,
   "id": "d7b22891",
   "metadata": {
    "ExecuteTime": {
     "end_time": "2022-06-21T20:02:02.883620Z",
     "start_time": "2022-06-21T20:02:02.792629Z"
    },
    "code_folding": []
   },
   "outputs": [
    {
     "name": "stdout",
     "output_type": "stream",
     "text": [
      "A hipótese 6 é verdadeira, pois imóveis com reforma são 43.37% mais caros em média.\n"
     ]
    },
    {
     "data": {
      "image/png": "[encoded data removed]",
      "text/plain": [
       "<Figure size 504x720 with 1 Axes>"
      ]
     },
     "metadata": {
      "needs_background": "light"
     },
     "output_type": "display_data"
    }
   ],
   "source": [
    "# H6: Imóveis com reforma são 30% mais caros na média.\n",
    "h6 = df[['is_renovated', 'price']].groupby('is_renovated').mean().reset_index()\n",
    "\n",
    "# Plot\n",
    "fig = plt.figure(figsize=(7,10))\n",
    "plt.bar(x=h6['is_renovated'], height=h6['price'])\n",
    "\n",
    "# Calculo de percentual e conclusão\n",
    "h6_perc = (h6.loc[1,'price'] / h6.loc[0,'price']-1)*100\n",
    "print(f'A hipótese 6 é verdadeira, pois imóveis com reforma são {h6_perc:.2f}% mais caros em média.')"
   ]
  },
  {
   "cell_type": "code",
   "execution_count": 17,
   "id": "d6972432",
   "metadata": {
    "ExecuteTime": {
     "end_time": "2022-06-21T20:02:02.976541Z",
     "start_time": "2022-06-21T20:02:02.885608Z"
    }
   },
   "outputs": [
    {
     "name": "stdout",
     "output_type": "stream",
     "text": [
      "A hipótese 7 é falsa, pois os imóveis vendem 3.00% a menos no verão em comparação a primavera (maior estação de vendas).\n"
     ]
    },
    {
     "data": {
      "image/png": "[encoded data removed]",
      "text/plain": [
       "<Figure size 504x720 with 1 Axes>"
      ]
     },
     "metadata": {
      "needs_background": "light"
     },
     "output_type": "display_data"
    }
   ],
   "source": [
    "# H7: Imóveis vendem 30% mais no verão na média\n",
    "h7 = df[['season', 'price']].groupby('season').count().reset_index()\n",
    "\n",
    "# Plot\n",
    "fig = plt.figure(figsize=(7,10))\n",
    "plt.bar(x=h7['season'], height=h7['price'])\n",
    "\n",
    "# Calculo de percentual e conclusão\n",
    "h7_perc = (h7.loc[1,'price'] / h7.loc[2,'price']-1)*100\n",
    "print(f'A hipótese 7 é falsa, pois os imóveis vendem {h7_perc:.2f}% a menos no verão em comparação a primavera (maior estação de vendas).')"
   ]
  },
  {
   "cell_type": "code",
   "execution_count": 18,
   "id": "11ac259c",
   "metadata": {
    "ExecuteTime": {
     "end_time": "2022-06-21T20:02:03.069496Z",
     "start_time": "2022-06-21T20:02:02.977541Z"
    }
   },
   "outputs": [
    {
     "name": "stdout",
     "output_type": "stream",
     "text": [
      "A hipótese 8 é falsa, pois os imóveis em verão vendem 1.07% a menos do que na primavera (maior estação em preços).\n"
     ]
    },
    {
     "data": {
      "image/png": "[encoded data removed]",
      "text/plain": [
       "<Figure size 504x720 with 1 Axes>"
      ]
     },
     "metadata": {
      "needs_background": "light"
     },
     "output_type": "display_data"
    }
   ],
   "source": [
    "# H8: Imóveis são 20% mais caros no verão na média.\n",
    "h8 = df[['season', 'price']].groupby('season').mean().reset_index()\n",
    "\n",
    "# Plot\n",
    "fig = plt.figure(figsize=(7,10))\n",
    "plt.bar(x=h8['season'], height=h8['price'])\n",
    "\n",
    "# Calculo de percentual e conclusão\n",
    "h8_perc = (h8.loc[1,'price'] / h8.loc[2,'price']-1)*100\n",
    "print(f'A hipótese 8 é falsa, pois os imóveis em verão vendem {h8_perc:.2f}% a menos do que na primavera (maior estação em preços).')"
   ]
  },
  {
   "cell_type": "code",
   "execution_count": 19,
   "id": "78885453",
   "metadata": {
    "ExecuteTime": {
     "end_time": "2022-06-21T20:02:03.165438Z",
     "start_time": "2022-06-21T20:02:03.071506Z"
    }
   },
   "outputs": [
    {
     "name": "stdout",
     "output_type": "stream",
     "text": [
      "A hipótese 9 é falsa, pois os imóveis com banheiro completo vendem 30.53% a menos do que banheiros sem chuveiro.\n"
     ]
    },
    {
     "data": {
      "image/png": "[encoded data removed]",
      "text/plain": [
       "<Figure size 504x720 with 1 Axes>"
      ]
     },
     "metadata": {
      "needs_background": "light"
     },
     "output_type": "display_data"
    }
   ],
   "source": [
    "# H9: Imóveis com banheiros completos são 10% mais caros na média.\n",
    "h9 = df[['complete_bathroom', 'price']].groupby('complete_bathroom').mean().reset_index()\n",
    "\n",
    "# Plot\n",
    "fig = plt.figure(figsize=(7,10))\n",
    "plt.bar(x=h9['complete_bathroom'], height=h9['price'])\n",
    "\n",
    "# Calculo de percentual e conclusão\n",
    "h9_perc = (h9.loc[0,'price'] / h9.loc[1,'price']-1)*100\n",
    "print(f'A hipótese 9 é falsa, pois os imóveis com banheiro completo vendem {h9_perc:.2f}% a menos do que banheiros sem chuveiro.')"
   ]
  },
  {
   "cell_type": "code",
   "execution_count": 20,
   "id": "84092fdc",
   "metadata": {
    "ExecuteTime": {
     "end_time": "2022-06-21T20:02:03.291392Z",
     "start_time": "2022-06-21T20:02:03.166436Z"
    }
   },
   "outputs": [
    {
     "name": "stdout",
     "output_type": "stream",
     "text": [
      "A hipótese 10 é falsa, pois o crescimento do preço médio para cada andar é de aproximandamente 16.10%.\n"
     ]
    },
    {
     "data": {
      "image/png": "[encoded data removed]",
      "text/plain": [
       "<Figure size 504x720 with 1 Axes>"
      ]
     },
     "metadata": {
      "needs_background": "light"
     },
     "output_type": "display_data"
    }
   ],
   "source": [
    "# H10: Para cada andar do imóvel, o preço médio é 20% maior.\n",
    "h10 = df[['floors', 'price']].groupby('floors').mean().reset_index()\n",
    "\n",
    "# Plot\n",
    "fig = plt.figure(figsize=(7,10))\n",
    "plt.bar(x=h10['floors'], height=h10['price'])\n",
    "\n",
    "# Calculo de percentual para cada andar\n",
    "h10_perc = 0\n",
    "for i in range(0, 2):\n",
    "    varh10 = (h10.iloc[i+1, 1] / h10.iloc[i, 1] *100) - 100\n",
    "    h10_perc = h10_perc + varh10\n",
    "        \n",
    "h10_perc = h10_perc/2\n",
    "\n",
    "# Conclusão\n",
    "print(f'A hipótese 10 é falsa, pois o crescimento do preço médio para cada andar é de aproximandamente {h10_perc:.2f}%.')"
   ]
  },
  {
   "cell_type": "markdown",
   "id": "c4aba04b",
   "metadata": {},
   "source": [
    "### 4.4 Questão de negócio\n",
    "\n",
    "#### 4.4.1 Quais são os imóveis que a House Rocket deveria comprar e por qual preço?"
   ]
  },
  {
   "cell_type": "markdown",
   "id": "743986cf",
   "metadata": {},
   "source": [
    "##### Passos a serem tomados para a resolução:\n",
    "- Agrupar os imóveis por região (zipcode).\n",
    "- Dentro de cada região, encontrar a mediana do preço do imóvel.\n",
    "- Sugerir os imóveis que estão abaixo do preço mediano da região e que estejam em boas condições e vista a água.\n",
    "- Construir uma tabela com recomendações de compra ou não compra.\n"
   ]
  },
  {
   "cell_type": "code",
   "execution_count": 21,
   "id": "54e92a85",
   "metadata": {
    "ExecuteTime": {
     "end_time": "2022-06-21T20:02:05.442452Z",
     "start_time": "2022-06-21T20:02:03.294391Z"
    },
    "scrolled": true
   },
   "outputs": [],
   "source": [
    "# Agrupamento por zipcode e mediana de cada região\n",
    "df1m = df[['zipcode', 'price']].groupby('zipcode').median().reset_index()\n",
    "df1m.rename(columns={\"price\": \"price_median\"}, inplace=True) # Renomear coluna\n",
    "\n",
    "\n",
    "df1 = df.copy()\n",
    "df1 = df1.drop_duplicates( subset=['id'], keep='last') # Removendo imoveis duplicados\n",
    "df1 = pd.merge(df1, df1m, on='zipcode', how='inner') # inclusão do preco da mediana no dataset \n",
    "\n",
    "# Sugestao de compra ou nao com base na mediana do preco na regiao, condicao do imovel e vista a agua\n",
    "for i in range (len(df1)):\n",
    "    if (df1.loc[i, 'price_median'] > df1.loc[i, 'price']) & (df1.loc[i, 'condition'] >= 3) & (df1.loc[i, 'grade'] >= 7):\n",
    "        df1.loc[i, 'status'] = 'buy'\n",
    "    else:\n",
    "        df1.loc[i, 'status'] = 'not buy'"
   ]
  },
  {
   "cell_type": "code",
   "execution_count": 22,
   "id": "ee06e1b1",
   "metadata": {
    "ExecuteTime": {
     "end_time": "2022-06-21T20:02:05.680315Z",
     "start_time": "2022-06-21T20:02:05.443447Z"
    }
   },
   "outputs": [
    {
     "name": "stdout",
     "output_type": "stream",
     "text": [
      "A quantidade de imóveis com condição de compra são de: 8578 unidades\n",
      "A quantidade corresponde a 39.69% dos dados totais.\n"
     ]
    },
    {
     "data": {
      "text/html": [
       "<div>\n",
       "<style scoped>\n",
       "    .dataframe tbody tr th:only-of-type {\n",
       "        vertical-align: middle;\n",
       "    }\n",
       "\n",
       "    .dataframe tbody tr th {\n",
       "        vertical-align: top;\n",
       "    }\n",
       "\n",
       "    .dataframe thead th {\n",
       "        text-align: right;\n",
       "    }\n",
       "</style>\n",
       "<table border=\"1\" class=\"dataframe\">\n",
       "  <thead>\n",
       "    <tr style=\"text-align: right;\">\n",
       "      <th></th>\n",
       "      <th>id</th>\n",
       "      <th>zipcode</th>\n",
       "      <th>price</th>\n",
       "      <th>price_median</th>\n",
       "      <th>grade</th>\n",
       "      <th>condition</th>\n",
       "      <th>status</th>\n",
       "    </tr>\n",
       "  </thead>\n",
       "  <tbody>\n",
       "    <tr>\n",
       "      <th>0</th>\n",
       "      <td>7129300520</td>\n",
       "      <td>98178</td>\n",
       "      <td>221900.00</td>\n",
       "      <td>278277.00</td>\n",
       "      <td>7</td>\n",
       "      <td>3</td>\n",
       "      <td>buy</td>\n",
       "    </tr>\n",
       "    <tr>\n",
       "      <th>11211</th>\n",
       "      <td>9558200025</td>\n",
       "      <td>98148</td>\n",
       "      <td>265000.00</td>\n",
       "      <td>278000.00</td>\n",
       "      <td>7</td>\n",
       "      <td>4</td>\n",
       "      <td>buy</td>\n",
       "    </tr>\n",
       "    <tr>\n",
       "      <th>11212</th>\n",
       "      <td>9558800025</td>\n",
       "      <td>98148</td>\n",
       "      <td>225000.00</td>\n",
       "      <td>278000.00</td>\n",
       "      <td>7</td>\n",
       "      <td>3</td>\n",
       "      <td>buy</td>\n",
       "    </tr>\n",
       "    <tr>\n",
       "      <th>11213</th>\n",
       "      <td>6121000110</td>\n",
       "      <td>98148</td>\n",
       "      <td>193000.00</td>\n",
       "      <td>278000.00</td>\n",
       "      <td>7</td>\n",
       "      <td>3</td>\n",
       "      <td>buy</td>\n",
       "    </tr>\n",
       "    <tr>\n",
       "      <th>11214</th>\n",
       "      <td>3223049131</td>\n",
       "      <td>98148</td>\n",
       "      <td>270000.00</td>\n",
       "      <td>278000.00</td>\n",
       "      <td>7</td>\n",
       "      <td>3</td>\n",
       "      <td>buy</td>\n",
       "    </tr>\n",
       "    <tr>\n",
       "      <th>11218</th>\n",
       "      <td>6123600100</td>\n",
       "      <td>98148</td>\n",
       "      <td>191000.00</td>\n",
       "      <td>278000.00</td>\n",
       "      <td>7</td>\n",
       "      <td>3</td>\n",
       "      <td>buy</td>\n",
       "    </tr>\n",
       "    <tr>\n",
       "      <th>11220</th>\n",
       "      <td>5071700020</td>\n",
       "      <td>98148</td>\n",
       "      <td>240000.00</td>\n",
       "      <td>278000.00</td>\n",
       "      <td>7</td>\n",
       "      <td>3</td>\n",
       "      <td>buy</td>\n",
       "    </tr>\n",
       "    <tr>\n",
       "      <th>11222</th>\n",
       "      <td>2923049421</td>\n",
       "      <td>98148</td>\n",
       "      <td>250000.00</td>\n",
       "      <td>278000.00</td>\n",
       "      <td>8</td>\n",
       "      <td>3</td>\n",
       "      <td>buy</td>\n",
       "    </tr>\n",
       "    <tr>\n",
       "      <th>11228</th>\n",
       "      <td>3223049158</td>\n",
       "      <td>98148</td>\n",
       "      <td>222200.00</td>\n",
       "      <td>278000.00</td>\n",
       "      <td>7</td>\n",
       "      <td>3</td>\n",
       "      <td>buy</td>\n",
       "    </tr>\n",
       "    <tr>\n",
       "      <th>11231</th>\n",
       "      <td>6123600090</td>\n",
       "      <td>98148</td>\n",
       "      <td>251200.00</td>\n",
       "      <td>278000.00</td>\n",
       "      <td>7</td>\n",
       "      <td>3</td>\n",
       "      <td>buy</td>\n",
       "    </tr>\n",
       "    <tr>\n",
       "      <th>11210</th>\n",
       "      <td>7957600075</td>\n",
       "      <td>98148</td>\n",
       "      <td>202500.00</td>\n",
       "      <td>278000.00</td>\n",
       "      <td>7</td>\n",
       "      <td>3</td>\n",
       "      <td>buy</td>\n",
       "    </tr>\n",
       "    <tr>\n",
       "      <th>11235</th>\n",
       "      <td>5071500140</td>\n",
       "      <td>98148</td>\n",
       "      <td>221000.00</td>\n",
       "      <td>278000.00</td>\n",
       "      <td>7</td>\n",
       "      <td>3</td>\n",
       "      <td>buy</td>\n",
       "    </tr>\n",
       "    <tr>\n",
       "      <th>11241</th>\n",
       "      <td>5245600120</td>\n",
       "      <td>98148</td>\n",
       "      <td>257500.00</td>\n",
       "      <td>278000.00</td>\n",
       "      <td>7</td>\n",
       "      <td>3</td>\n",
       "      <td>buy</td>\n",
       "    </tr>\n",
       "    <tr>\n",
       "      <th>11244</th>\n",
       "      <td>6123000225</td>\n",
       "      <td>98148</td>\n",
       "      <td>260000.00</td>\n",
       "      <td>278000.00</td>\n",
       "      <td>7</td>\n",
       "      <td>3</td>\n",
       "      <td>buy</td>\n",
       "    </tr>\n",
       "    <tr>\n",
       "      <th>11245</th>\n",
       "      <td>6121800050</td>\n",
       "      <td>98148</td>\n",
       "      <td>195000.00</td>\n",
       "      <td>278000.00</td>\n",
       "      <td>7</td>\n",
       "      <td>3</td>\n",
       "      <td>buy</td>\n",
       "    </tr>\n",
       "  </tbody>\n",
       "</table>\n",
       "</div>"
      ],
      "text/plain": [
       "               id  zipcode     price  price_median  grade  condition status\n",
       "0      7129300520    98178 221900.00     278277.00      7          3    buy\n",
       "11211  9558200025    98148 265000.00     278000.00      7          4    buy\n",
       "11212  9558800025    98148 225000.00     278000.00      7          3    buy\n",
       "11213  6121000110    98148 193000.00     278000.00      7          3    buy\n",
       "11214  3223049131    98148 270000.00     278000.00      7          3    buy\n",
       "11218  6123600100    98148 191000.00     278000.00      7          3    buy\n",
       "11220  5071700020    98148 240000.00     278000.00      7          3    buy\n",
       "11222  2923049421    98148 250000.00     278000.00      8          3    buy\n",
       "11228  3223049158    98148 222200.00     278000.00      7          3    buy\n",
       "11231  6123600090    98148 251200.00     278000.00      7          3    buy\n",
       "11210  7957600075    98148 202500.00     278000.00      7          3    buy\n",
       "11235  5071500140    98148 221000.00     278000.00      7          3    buy\n",
       "11241  5245600120    98148 257500.00     278000.00      7          3    buy\n",
       "11244  6123000225    98148 260000.00     278000.00      7          3    buy\n",
       "11245  6121800050    98148 195000.00     278000.00      7          3    buy"
      ]
     },
     "execution_count": 22,
     "metadata": {},
     "output_type": "execute_result"
    }
   ],
   "source": [
    "# Escolhendo features utilizadas para analise\n",
    "df3 = df1.copy()\n",
    "df1 = df1[['id', 'zipcode', 'price', 'price_median', 'grade', 'condition', 'status']].sort_values('status')\n",
    "\n",
    "# Gerando relatorio\n",
    "df1.to_csv('datasets\\kc_house_buy_report.csv', index=False) \n",
    "\n",
    "# Gerando relatorio geografico\n",
    "df3[['id', 'zipcode', 'lat', 'long', 'price', 'price_median', 'grade', 'condition', \n",
    "     'status']].sort_values('status').to_csv('datasets\\kc_house_buy_report_geo.csv', index=False) \n",
    "\n",
    "\n",
    "# Resultado\n",
    "total = df1[df1['status'] == 'buy'].shape[0]\n",
    "print(f'A quantidade de imóveis com condição de compra são de: {total} unidades')\n",
    "perc = total/data.shape[0]*100\n",
    "print(f'A quantidade corresponde a {perc:.2f}% dos dados totais.')\n",
    "df1.head(15)"
   ]
  },
  {
   "cell_type": "markdown",
   "id": "80b56ef9",
   "metadata": {},
   "source": [
    "#### 4.4.2 Uma vez a casa comprada, qual o melhor momento para vendê-las e por qual preço?"
   ]
  },
  {
   "cell_type": "markdown",
   "id": "f4430414",
   "metadata": {},
   "source": [
    "##### Passos a serem tomados para a resolução:\n",
    "- Agrupar os imóveis por região (zipcode) e por sazonalidade (Summer, Inter).\n",
    "- Dentro de cada região e sazonalidade, calcular a mediana do preço.\n",
    "- Condições de venda:\n",
    "1. Se o preço da compra for maior que a mediana da região + sazonalidade. O preço da venda será igual ao preço da compra + 10%\n",
    "1. Se o preço da compra for menor que a mediana da região + sazonalidade. O preço da venda será igual ao preço da compra + 30%\n"
   ]
  },
  {
   "cell_type": "code",
   "execution_count": 23,
   "id": "4d835843",
   "metadata": {
    "ExecuteTime": {
     "end_time": "2022-06-21T20:02:09.438526Z",
     "start_time": "2022-06-21T20:02:05.683299Z"
    }
   },
   "outputs": [],
   "source": [
    "df2m = df.copy()\n",
    "df2 = df.copy()\n",
    "\n",
    "df2m = df2m[['zipcode', 'season', 'price']].groupby(['zipcode', 'season']).median().reset_index()\n",
    "df2m.rename(columns={\"price\": \"price_median\"}, inplace=True) # Renomear coluna\n",
    "\n",
    "\n",
    "df2 = df2.drop_duplicates( subset=['id'], keep='last') # Removendo imoveis duplicados\n",
    "df2 = pd.merge(df2, df2m, on=['zipcode', 'season'], how='inner') # inclusão do preco da mediana no dataset \n",
    "\n",
    "# Sugestao de venda com base no preco mediano da regiao + temporada\n",
    "for i in range (len(df2)):\n",
    "    if df2.loc[i, 'price'] > df2.loc[i, 'price_median']:\n",
    "        df2.loc[i, 'sell_price'] = float(df2.loc[i,'price']*10/100) + float(df2.loc[i, 'price'])\n",
    "        df2.loc[i, 'profit'] = float(df2.loc[i,'price']*10/100)\n",
    "    else:\n",
    "        df2.loc[i, 'sell_price'] = float(df2.loc[i,'price']*30/100) + float(df2.loc[i, 'price'])\n",
    "        df2.loc[i, 'profit'] = float(df2.loc[i,'price']*30/100)"
   ]
  },
  {
   "cell_type": "code",
   "execution_count": 24,
   "id": "6422838a",
   "metadata": {
    "ExecuteTime": {
     "end_time": "2022-06-21T20:02:09.579461Z",
     "start_time": "2022-06-21T20:02:09.439526Z"
    }
   },
   "outputs": [
    {
     "data": {
      "text/html": [
       "<div>\n",
       "<style scoped>\n",
       "    .dataframe tbody tr th:only-of-type {\n",
       "        vertical-align: middle;\n",
       "    }\n",
       "\n",
       "    .dataframe tbody tr th {\n",
       "        vertical-align: top;\n",
       "    }\n",
       "\n",
       "    .dataframe thead th {\n",
       "        text-align: right;\n",
       "    }\n",
       "</style>\n",
       "<table border=\"1\" class=\"dataframe\">\n",
       "  <thead>\n",
       "    <tr style=\"text-align: right;\">\n",
       "      <th></th>\n",
       "      <th>id</th>\n",
       "      <th>zipcode</th>\n",
       "      <th>season</th>\n",
       "      <th>price</th>\n",
       "      <th>price_median</th>\n",
       "      <th>grade</th>\n",
       "      <th>condition</th>\n",
       "      <th>sell_price</th>\n",
       "      <th>profit</th>\n",
       "    </tr>\n",
       "  </thead>\n",
       "  <tbody>\n",
       "    <tr>\n",
       "      <th>15087</th>\n",
       "      <td>6762700020</td>\n",
       "      <td>98102</td>\n",
       "      <td>fall</td>\n",
       "      <td>7700000.00</td>\n",
       "      <td>740000.00</td>\n",
       "      <td>13</td>\n",
       "      <td>4</td>\n",
       "      <td>8470000.00</td>\n",
       "      <td>770000.00</td>\n",
       "    </tr>\n",
       "    <tr>\n",
       "      <th>21408</th>\n",
       "      <td>2210500010</td>\n",
       "      <td>98039</td>\n",
       "      <td>fall</td>\n",
       "      <td>2450000.00</td>\n",
       "      <td>2450000.00</td>\n",
       "      <td>11</td>\n",
       "      <td>3</td>\n",
       "      <td>3185000.00</td>\n",
       "      <td>735000.00</td>\n",
       "    </tr>\n",
       "    <tr>\n",
       "      <th>5487</th>\n",
       "      <td>9808700762</td>\n",
       "      <td>98004</td>\n",
       "      <td>summer</td>\n",
       "      <td>7062500.00</td>\n",
       "      <td>1149000.00</td>\n",
       "      <td>11</td>\n",
       "      <td>3</td>\n",
       "      <td>7768750.00</td>\n",
       "      <td>706250.00</td>\n",
       "    </tr>\n",
       "    <tr>\n",
       "      <th>21403</th>\n",
       "      <td>9208900037</td>\n",
       "      <td>98039</td>\n",
       "      <td>fall</td>\n",
       "      <td>6885000.00</td>\n",
       "      <td>2450000.00</td>\n",
       "      <td>13</td>\n",
       "      <td>3</td>\n",
       "      <td>7573500.00</td>\n",
       "      <td>688500.00</td>\n",
       "    </tr>\n",
       "    <tr>\n",
       "      <th>21378</th>\n",
       "      <td>2525049113</td>\n",
       "      <td>98039</td>\n",
       "      <td>summer</td>\n",
       "      <td>1950000.00</td>\n",
       "      <td>1950000.00</td>\n",
       "      <td>10</td>\n",
       "      <td>4</td>\n",
       "      <td>2535000.00</td>\n",
       "      <td>585000.00</td>\n",
       "    </tr>\n",
       "    <tr>\n",
       "      <th>21377</th>\n",
       "      <td>2425049066</td>\n",
       "      <td>98039</td>\n",
       "      <td>summer</td>\n",
       "      <td>1920000.00</td>\n",
       "      <td>1950000.00</td>\n",
       "      <td>9</td>\n",
       "      <td>4</td>\n",
       "      <td>2496000.00</td>\n",
       "      <td>576000.00</td>\n",
       "    </tr>\n",
       "    <tr>\n",
       "      <th>21400</th>\n",
       "      <td>6447300225</td>\n",
       "      <td>98039</td>\n",
       "      <td>fall</td>\n",
       "      <td>1880000.00</td>\n",
       "      <td>2450000.00</td>\n",
       "      <td>9</td>\n",
       "      <td>4</td>\n",
       "      <td>2444000.00</td>\n",
       "      <td>564000.00</td>\n",
       "    </tr>\n",
       "    <tr>\n",
       "      <th>21398</th>\n",
       "      <td>3262300818</td>\n",
       "      <td>98039</td>\n",
       "      <td>winter</td>\n",
       "      <td>1865000.00</td>\n",
       "      <td>1865000.00</td>\n",
       "      <td>11</td>\n",
       "      <td>3</td>\n",
       "      <td>2424500.00</td>\n",
       "      <td>559500.00</td>\n",
       "    </tr>\n",
       "    <tr>\n",
       "      <th>21365</th>\n",
       "      <td>2470100110</td>\n",
       "      <td>98039</td>\n",
       "      <td>summer</td>\n",
       "      <td>5570000.00</td>\n",
       "      <td>1950000.00</td>\n",
       "      <td>13</td>\n",
       "      <td>3</td>\n",
       "      <td>6127000.00</td>\n",
       "      <td>557000.00</td>\n",
       "    </tr>\n",
       "    <tr>\n",
       "      <th>21427</th>\n",
       "      <td>5425700205</td>\n",
       "      <td>98039</td>\n",
       "      <td>spring</td>\n",
       "      <td>1800000.00</td>\n",
       "      <td>1800000.00</td>\n",
       "      <td>9</td>\n",
       "      <td>3</td>\n",
       "      <td>2340000.00</td>\n",
       "      <td>540000.00</td>\n",
       "    </tr>\n",
       "    <tr>\n",
       "      <th>9099</th>\n",
       "      <td>8907500070</td>\n",
       "      <td>98004</td>\n",
       "      <td>spring</td>\n",
       "      <td>5350000.00</td>\n",
       "      <td>1210000.00</td>\n",
       "      <td>12</td>\n",
       "      <td>3</td>\n",
       "      <td>5885000.00</td>\n",
       "      <td>535000.00</td>\n",
       "    </tr>\n",
       "    <tr>\n",
       "      <th>20241</th>\n",
       "      <td>7558700030</td>\n",
       "      <td>98040</td>\n",
       "      <td>spring</td>\n",
       "      <td>5300000.00</td>\n",
       "      <td>1100000.00</td>\n",
       "      <td>12</td>\n",
       "      <td>4</td>\n",
       "      <td>5830000.00</td>\n",
       "      <td>530000.00</td>\n",
       "    </tr>\n",
       "    <tr>\n",
       "      <th>21368</th>\n",
       "      <td>2525049266</td>\n",
       "      <td>98039</td>\n",
       "      <td>summer</td>\n",
       "      <td>1762000.00</td>\n",
       "      <td>1950000.00</td>\n",
       "      <td>10</td>\n",
       "      <td>3</td>\n",
       "      <td>2290600.00</td>\n",
       "      <td>528600.00</td>\n",
       "    </tr>\n",
       "    <tr>\n",
       "      <th>21425</th>\n",
       "      <td>3738000070</td>\n",
       "      <td>98039</td>\n",
       "      <td>spring</td>\n",
       "      <td>1712750.00</td>\n",
       "      <td>1800000.00</td>\n",
       "      <td>9</td>\n",
       "      <td>5</td>\n",
       "      <td>2226575.00</td>\n",
       "      <td>513825.00</td>\n",
       "    </tr>\n",
       "    <tr>\n",
       "      <th>11764</th>\n",
       "      <td>1247600105</td>\n",
       "      <td>98033</td>\n",
       "      <td>fall</td>\n",
       "      <td>5110800.00</td>\n",
       "      <td>627000.00</td>\n",
       "      <td>12</td>\n",
       "      <td>3</td>\n",
       "      <td>5621880.00</td>\n",
       "      <td>511080.00</td>\n",
       "    </tr>\n",
       "  </tbody>\n",
       "</table>\n",
       "</div>"
      ],
      "text/plain": [
       "               id  zipcode  season      price  price_median  grade  condition  \\\n",
       "15087  6762700020    98102    fall 7700000.00     740000.00     13          4   \n",
       "21408  2210500010    98039    fall 2450000.00    2450000.00     11          3   \n",
       "5487   9808700762    98004  summer 7062500.00    1149000.00     11          3   \n",
       "21403  9208900037    98039    fall 6885000.00    2450000.00     13          3   \n",
       "21378  2525049113    98039  summer 1950000.00    1950000.00     10          4   \n",
       "21377  2425049066    98039  summer 1920000.00    1950000.00      9          4   \n",
       "21400  6447300225    98039    fall 1880000.00    2450000.00      9          4   \n",
       "21398  3262300818    98039  winter 1865000.00    1865000.00     11          3   \n",
       "21365  2470100110    98039  summer 5570000.00    1950000.00     13          3   \n",
       "21427  5425700205    98039  spring 1800000.00    1800000.00      9          3   \n",
       "9099   8907500070    98004  spring 5350000.00    1210000.00     12          3   \n",
       "20241  7558700030    98040  spring 5300000.00    1100000.00     12          4   \n",
       "21368  2525049266    98039  summer 1762000.00    1950000.00     10          3   \n",
       "21425  3738000070    98039  spring 1712750.00    1800000.00      9          5   \n",
       "11764  1247600105    98033    fall 5110800.00     627000.00     12          3   \n",
       "\n",
       "       sell_price    profit  \n",
       "15087  8470000.00 770000.00  \n",
       "21408  3185000.00 735000.00  \n",
       "5487   7768750.00 706250.00  \n",
       "21403  7573500.00 688500.00  \n",
       "21378  2535000.00 585000.00  \n",
       "21377  2496000.00 576000.00  \n",
       "21400  2444000.00 564000.00  \n",
       "21398  2424500.00 559500.00  \n",
       "21365  6127000.00 557000.00  \n",
       "21427  2340000.00 540000.00  \n",
       "9099   5885000.00 535000.00  \n",
       "20241  5830000.00 530000.00  \n",
       "21368  2290600.00 528600.00  \n",
       "21425  2226575.00 513825.00  \n",
       "11764  5621880.00 511080.00  "
      ]
     },
     "execution_count": 24,
     "metadata": {},
     "output_type": "execute_result"
    }
   ],
   "source": [
    "# Escolhendo features utilizadas para analise\n",
    "df4 = df2.copy()\n",
    "df2 = df2[['id', 'zipcode', 'season', 'price', 'price_median', 'grade', \n",
    "           'condition', 'sell_price', 'profit']].sort_values('profit', ascending=False)\n",
    "\n",
    "# Gerando relatorio\n",
    "df2.to_csv('datasets\\kc_house_sell_report.csv', index=False) \n",
    "\n",
    "# Resultado\n",
    "df2.head(15)"
   ]
  },
  {
   "cell_type": "markdown",
   "id": "e857f4e7",
   "metadata": {},
   "source": [
    "Observação: O relatório gerado acima possui a analise de vendas para todos os imóveis disponíveis"
   ]
  },
  {
   "cell_type": "markdown",
   "id": "77c04cec",
   "metadata": {
    "ExecuteTime": {
     "end_time": "2022-06-19T23:25:14.520280Z",
     "start_time": "2022-06-19T23:25:14.502280Z"
    }
   },
   "source": [
    "### 5 Resultados financeiros"
   ]
  },
  {
   "cell_type": "markdown",
   "id": "27c51941",
   "metadata": {},
   "source": [
    "Situação 1: Ao comprar apenas os indicados para compra conforme a primeira questão de negocio o resultado financeiro será:"
   ]
  },
  {
   "cell_type": "code",
   "execution_count": 25,
   "id": "31704177",
   "metadata": {
    "ExecuteTime": {
     "end_time": "2022-06-21T20:02:09.610429Z",
     "start_time": "2022-06-21T20:02:09.581445Z"
    }
   },
   "outputs": [
    {
     "data": {
      "text/html": [
       "<div>\n",
       "<style scoped>\n",
       "    .dataframe tbody tr th:only-of-type {\n",
       "        vertical-align: middle;\n",
       "    }\n",
       "\n",
       "    .dataframe tbody tr th {\n",
       "        vertical-align: top;\n",
       "    }\n",
       "\n",
       "    .dataframe thead th {\n",
       "        text-align: right;\n",
       "    }\n",
       "</style>\n",
       "<table border=\"1\" class=\"dataframe\">\n",
       "  <thead>\n",
       "    <tr style=\"text-align: right;\">\n",
       "      <th></th>\n",
       "      <th>status</th>\n",
       "      <th>price</th>\n",
       "      <th>sell_price</th>\n",
       "      <th>profit</th>\n",
       "    </tr>\n",
       "  </thead>\n",
       "  <tbody>\n",
       "    <tr>\n",
       "      <th>0</th>\n",
       "      <td>buy</td>\n",
       "      <td>3535777760.00</td>\n",
       "      <td>4561543361.20</td>\n",
       "      <td>1025765601.20</td>\n",
       "    </tr>\n",
       "  </tbody>\n",
       "</table>\n",
       "</div>"
      ],
      "text/plain": [
       "  status         price    sell_price        profit\n",
       "0    buy 3535777760.00 4561543361.20 1025765601.20"
      ]
     },
     "execution_count": 25,
     "metadata": {},
     "output_type": "execute_result"
    }
   ],
   "source": [
    "# Filtrando o segundo relatório\n",
    "df4.drop(columns=['date', 'price', 'bedrooms', 'bathrooms', 'sqft_living', \n",
    "       'sqft_lot', 'floors', 'waterfront', 'view', 'condition', 'grade',\n",
    "       'sqft_above', 'sqft_basement', 'yr_built', 'yr_renovated', 'zipcode',\n",
    "       'lat', 'long', 'sqft_living15', 'sqft_lot15', 'age_house', 'basement',\n",
    "       'year', 'month', 'is_renovated', 'season', 'complete_bathroom',\n",
    "       'price_median'], inplace=True)\n",
    "\n",
    "# Junção do primeiro com o segundo relatório\n",
    "df3 = pd.merge(df3, df4, on='id', how='inner')  \n",
    "\n",
    "# Agrupando pela somatória de compra, venda e lucro bruto\n",
    "dff = df3[['status', 'price', 'sell_price', 'profit']].groupby('status').sum().reset_index()\n",
    "dff.drop(1, inplace=True)\n",
    "dff"
   ]
  },
  {
   "cell_type": "markdown",
   "id": "f7d47802",
   "metadata": {},
   "source": [
    "#### Observações: \n",
    " - O custo total de compra é de aproximadamente 3,535,777,760, o resultado bruto será de aproximadamente 4,561,543,361.20 e o lucro será de aproximadamente 1,025,765,601.20 correspondendo a 8,578 imóveis.\n",
    " - O lucro por imóvel é de aproximadamente 119,580.97"
   ]
  },
  {
   "cell_type": "markdown",
   "id": "b0820acd",
   "metadata": {},
   "source": [
    "Situação 2: Ao realizar a compra de todos os imóveis o resultado financeiro será:"
   ]
  },
  {
   "cell_type": "code",
   "execution_count": 26,
   "id": "d920cdfb",
   "metadata": {
    "ExecuteTime": {
     "end_time": "2022-06-21T20:02:09.626419Z",
     "start_time": "2022-06-21T20:02:09.612428Z"
    }
   },
   "outputs": [
    {
     "data": {
      "text/html": [
       "<div>\n",
       "<style scoped>\n",
       "    .dataframe tbody tr th:only-of-type {\n",
       "        vertical-align: middle;\n",
       "    }\n",
       "\n",
       "    .dataframe tbody tr th {\n",
       "        vertical-align: top;\n",
       "    }\n",
       "\n",
       "    .dataframe thead th {\n",
       "        text-align: right;\n",
       "    }\n",
       "</style>\n",
       "<table border=\"1\" class=\"dataframe\">\n",
       "  <thead>\n",
       "    <tr style=\"text-align: right;\">\n",
       "      <th></th>\n",
       "      <th>price</th>\n",
       "      <th>sell_price</th>\n",
       "      <th>profit</th>\n",
       "    </tr>\n",
       "  </thead>\n",
       "  <tbody>\n",
       "    <tr>\n",
       "      <th>0</th>\n",
       "      <td>11610168601.00</td>\n",
       "      <td>13611834574.50</td>\n",
       "      <td>2001665973.50</td>\n",
       "    </tr>\n",
       "  </tbody>\n",
       "</table>\n",
       "</div>"
      ],
      "text/plain": [
       "           price     sell_price        profit\n",
       "0 11610168601.00 13611834574.50 2001665973.50"
      ]
     },
     "execution_count": 26,
     "metadata": {},
     "output_type": "execute_result"
    }
   ],
   "source": [
    "dff2 = df3[['price', 'sell_price', 'profit']].sum()\n",
    "dff2 = pd.DataFrame(dff2)\n",
    "dff2.T"
   ]
  },
  {
   "cell_type": "markdown",
   "id": "2e510397",
   "metadata": {},
   "source": [
    "#### Observações: \n",
    " - O Custo total será de aproximadamente 11,610,168,601.00, o resultado bruto será de aproximadamente 13,611,834,574.50 e o lucro aproximado é de 2,001,665,973.50 correspondendo a 21,435 imóveis\n",
    " - O lucro aproximado por imóvel é de 93,383.06"
   ]
  },
  {
   "cell_type": "markdown",
   "id": "2e3e6117",
   "metadata": {},
   "source": [
    "### 6 Conclusão\n",
    "\n",
    " - A adoção da abordagem de compra com base nos indicadores apontados no relatório 1 permite um aumento do lucro de aproximadamente 28,05% por imóvel com um custo total aproximado de 228,36% a menos."
   ]
  }
 ],
 "metadata": {
  "kernelspec": {
   "display_name": "Python 3 (ipykernel)",
   "language": "python",
   "name": "python3"
  },
  "language_info": {
   "codemirror_mode": {
    "name": "ipython",
    "version": 3
   },
   "file_extension": ".py",
   "mimetype": "text/x-python",
   "name": "python",
   "nbconvert_exporter": "python",
   "pygments_lexer": "ipython3",
   "version": "3.9.7"
  }
 },
 "nbformat": 4,
 "nbformat_minor": 5
}
